{
 "cells": [
  {
   "cell_type": "markdown",
   "metadata": {},
   "source": [
    "# OpenCV 실습 - 움직이는 물체 감지로 침입탐지 밑 저장\n",
    "\n",
    "200601\n",
    "\n",
    "https://potatoggg.tistory.com/192\n",
    "\n",
    "http://study.marearts.com/2017/02/cvlecture-example-code-video-subtraction.html\n",
    "\n",
    "http://cvlecture.marearts.com/2017/02/opencv-4-5.html\n"
   ]
  },
  {
   "cell_type": "code",
   "execution_count": null,
   "metadata": {},
   "outputs": [],
   "source": [
    "import cv2\n",
    "import datetime\n",
    "\n",
    "cap = cv2.VideoCapture(1)  # 0: default camera\n",
    "#cap = cv2.VideoCapture(\"test.mp4\") #동영상 파일에서 읽기\n",
    "\n",
    "min_area = 8000  # 움직이는 contour중 8000 이상인 물체만 인식, 작은건 무시\n",
    "\n",
    "old_gray = 0\n",
    "frame_cnt = 0\n",
    "while cap.isOpened():\n",
    "    # 카메라 프레임 읽기\n",
    "    success, frame = cap.read()  # frame : (480, 640, 3)\n",
    "    if success:\n",
    "        frame_cnt += 1\n",
    "        gray = cv2.cvtColor(frame, cv2.COLOR_BGR2GRAY)\n",
    "        gray = cv2.GaussianBlur(gray, (21, 21), 0)\n",
    "        fps = cap.get(cv2.CAP_PROP_FPS)\n",
    "        if frame_cnt % 30 == 0:\n",
    "            print('fps : %d'%(fps))\n",
    "        \n",
    "        if type(old_gray)==int:\n",
    "            old_gray = gray\n",
    "        \n",
    "        \n",
    "        substraction_frame = cv2.absdiff(gray, old_gray)\n",
    "        _, abs_diff_thresolding =  cv2.threshold(substraction_frame, 20, 255, cv2.THRESH_BINARY)\n",
    "        dilated_abs_diff_thresolding = cv2.dilate(abs_diff_thresolding, None, iterations=2)  # 팽창\n",
    "        cnts, _ = cv2.findContours(dilated_abs_diff_thresolding.copy(), cv2.RETR_EXTERNAL, cv2.CHAIN_APPROX_SIMPLE)\n",
    "        \n",
    "        # 사진에서 contour 갯수만큼 loop\n",
    "        count2 = 0\n",
    "        if (frame_cnt % 3 == 0):\n",
    "            for c in cnts:\n",
    "                count2 += 1\n",
    "                if cv2.contourArea(c) < min_area:\n",
    "                    continue\n",
    "                # contour를 위한 bbox 그리기\n",
    "                (x, y, w, h) = cv2.boundingRect(c)\n",
    "                cv2.rectangle(frame, (x, y), (x+w, y+h), (0, 255, 0), 2)\n",
    "                img_trim = frame[y : y+h, x : x+w]  # 이미지 자르기\n",
    "                cv2.imwrite('save/%d.jpg'%(frame_cnt), img_trim)\n",
    "        \n",
    "        cv2.putText(frame, datetime.datetime.now().strftime('%A %d %B %Y %I:%M:%S%p'), (10, frame.shape[0]-10), cv2.FONT_HERSHEY_SIMPLEX, 0.35, (0, 0, 255), 1)\n",
    "        \n",
    "        # 프레임 출력\n",
    "        cv2.imshow('Camera Window', frame)\n",
    "        cv2.imshow('Difference_dilate', dilated_abs_diff_thresolding)\n",
    "        \n",
    "        old_gray = gray\n",
    "\n",
    "        # ESC를 누르면 종료\n",
    "        if (cv2.waitKey(1) & 0xFF == 27):\n",
    "            cap.release()\n",
    "            cv2.destroyAllWindows()\n",
    "            break\n",
    "\n",
    "cap.release()\n",
    "cv2.destroyAllWindows()"
   ]
  },
  {
   "cell_type": "code",
   "execution_count": null,
   "metadata": {},
   "outputs": [],
   "source": []
  },
  {
   "cell_type": "code",
   "execution_count": null,
   "metadata": {},
   "outputs": [],
   "source": []
  },
  {
   "cell_type": "code",
   "execution_count": null,
   "metadata": {},
   "outputs": [],
   "source": []
  },
  {
   "cell_type": "code",
   "execution_count": null,
   "metadata": {},
   "outputs": [],
   "source": []
  }
 ],
 "metadata": {
  "kernelspec": {
   "display_name": "Python 3",
   "language": "python",
   "name": "python3"
  },
  "language_info": {
   "codemirror_mode": {
    "name": "ipython",
    "version": 3
   },
   "file_extension": ".py",
   "mimetype": "text/x-python",
   "name": "python",
   "nbconvert_exporter": "python",
   "pygments_lexer": "ipython3",
   "version": "3.6.8"
  },
  "varInspector": {
   "cols": {
    "lenName": 16,
    "lenType": 16,
    "lenVar": 40
   },
   "kernels_config": {
    "python": {
     "delete_cmd_postfix": "",
     "delete_cmd_prefix": "del ",
     "library": "var_list.py",
     "varRefreshCmd": "print(var_dic_list())"
    },
    "r": {
     "delete_cmd_postfix": ") ",
     "delete_cmd_prefix": "rm(",
     "library": "var_list.r",
     "varRefreshCmd": "cat(var_dic_list()) "
    }
   },
   "types_to_exclude": [
    "module",
    "function",
    "builtin_function_or_method",
    "instance",
    "_Feature"
   ],
   "window_display": false
  }
 },
 "nbformat": 4,
 "nbformat_minor": 2
}
